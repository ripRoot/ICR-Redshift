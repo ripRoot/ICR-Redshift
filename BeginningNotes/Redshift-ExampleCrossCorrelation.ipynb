{
 "cells": [
  {
   "cell_type": "markdown",
   "id": "f13212de",
   "metadata": {},
   "source": [
    "The meaning behind Probability and Statstics:\n",
    "\n",
    "https://byjus.com/maths/probability-and-statistics/\n",
    "\n",
    "Probability is how likely an event is to occur. (Like flipping a coin, P(Heads) = 1/2)\n",
    "\n",
    "3 different types of probability: (all good things come in three)\n",
    "\n",
    "Theoretical Probability - based on reasoning.\n",
    "Experimental Probability - based on observed data\n",
    "Axiomatic Probability - builds on formal rules (Kolmogorov's axioms) \n",
    "\n",
    "Statistics is the study of how to collect, summarize, interpret, present and draw conclusions from data of any kind.\n",
    "\n",
    "Data can be Quantitative (like numerica data, countable, or any value in a range) vs Qualitative (categorical or descriptive)\n",
    "\n",
    "**(Example problems on there aswell, do later)**\n",
    "\n",
    "Variance measures the spread of outcomes around the mean.\n",
    "\n",
    "Explore more: https://www.studocu.com/ph/document/sti-west-negros-university/electrical-engineering/probability-and-statistics-definition-terms-formulas-and-examples/41414861?utm_source=chatgpt.com\n"
   ]
  },
  {
   "cell_type": "code",
   "execution_count": 1,
   "id": "1e8a387d",
   "metadata": {},
   "outputs": [
    {
     "ename": "NameError",
     "evalue": "name 'np' is not defined",
     "output_type": "error",
     "traceback": [
      "\u001b[31m---------------------------------------------------------------------------\u001b[39m",
      "\u001b[31mNameError\u001b[39m                                 Traceback (most recent call last)",
      "\u001b[36mCell\u001b[39m\u001b[36m \u001b[39m\u001b[32mIn[1]\u001b[39m\u001b[32m, line 1\u001b[39m\n\u001b[32m----> \u001b[39m\u001b[32m1\u001b[39m rest_lines = \u001b[43mnp\u001b[49m.array([\u001b[32m5000.0\u001b[39m, \u001b[32m6000.0\u001b[39m, \u001b[32m6500.0\u001b[39m])   \u001b[38;5;66;03m# H‑beta, [O III], H‑alpha-ish placeholders\u001b[39;00m\n\u001b[32m      2\u001b[39m amps       = np.array([\u001b[32m1.0\u001b[39m,   \u001b[32m0.8\u001b[39m,   \u001b[32m0.6\u001b[39m])        \u001b[38;5;66;03m# relative line strengths/\u001b[39;00m\n",
      "\u001b[31mNameError\u001b[39m: name 'np' is not defined"
     ]
    }
   ],
   "source": [
    "rest_lines = np.array([5000.0, 6000.0, 6500.0])   # H‑beta, [O III], H‑alpha-ish placeholders\n",
    "amps       = np.array([1.0,   0.8,   0.6])        # relative line strengths/"
   ]
  },
  {
   "cell_type": "code",
   "execution_count": null,
   "id": "41fa9ee1",
   "metadata": {},
   "outputs": [],
   "source": [
    "wl = np.linspace(4800, 9000, 7000)\n",
    "\n",
    "# Guassian:\n",
    "# w: an array of values. Represents the wavelength.\n",
    "# w0: represents the center of the peak where Gaussian is tallest.\n",
    "# amp: the amplitude of the peak\n",
    "# sigma: a small sigma makes the peak narrow and steep. \n",
    "# big sigma makes it wide and smooth\n",
    "def gaussian(w, w0, amp, sigma=3.0):\n",
    "    \"\"\"Simple Gaussian line profile\"\"\"\n",
    "    return amp * np.exp(-(w - w0)**2 / (2.0 * sigma**2))\n",
    "\n",
    "#Zeros_like returns an array of zeros \n",
    "# with the same shape and size as a\n",
    "\n",
    "# Build rest‑frame template spectrum\n",
    "template_flux = np.zeros_like(wl)\n",
    "for w0, amp in zip(rest_lines, amps):\n",
    "    template_flux += gaussian(wl, w0, amp)"
   ]
  },
  {
   "cell_type": "markdown",
   "id": "07d39560",
   "metadata": {},
   "source": [
    "The equation looks like this:\n",
    "\n",
    "$$ f(x) = \\frac{1}{\\sigma\\sqrt{2\\pi}}e^{-\\frac{1}{2}\\left(\\frac{x-\\mu}{\\sigma}\\right)^2} $$\n",
    "\n",
    "\n",
    "$x$ represents the Variable\n",
    "\n",
    "$\\mu$ represents the Mean\n",
    "\n",
    "$\\sigma$ represents standard deviation\n",
    "\n",
    "$e$ represents the base of the natural log.\n",
    "\n",
    "properties of Gaussian Distribution:\n",
    "    \n",
    "-Symmetric around it's mean\n",
    "\n",
    "-unimodal (one MODE) (means only one peak)\n",
    "\n",
    "-Asymptotic"
   ]
  },
  {
   "cell_type": "code",
   "execution_count": null,
   "id": "eeba46ba",
   "metadata": {},
   "outputs": [],
   "source": [
    "# The X and Y values for the plot below.\n",
    "\n",
    "gaussianX = np.linspace(-100, 100, 3000)\n",
    "\n",
    "sd = 10\n",
    "mean = np.mean(gaussianX)\n",
    "\n",
    "# Calculating gaussian Y values.\n",
    "gaussianY = gaussian(mean, gaussianX, 1, sigma= sd)\n",
    "\n",
    "plt.figure(figsize=(10, 4))\n",
    "plt.plot(gaussianX, gaussianY)\n",
    "\n",
    "# Below is the different standard deviation(s) from 1 to 3. The blue line is the mean.\n",
    "plt.vlines(x=mean, colors=['b'], ymin=0, ymax=1)\n",
    "for n in range(1, 4):\n",
    "    plt.vlines(x=mean + n * sd, colors=['r'], ymin=0, ymax=1)\n",
    "    plt.vlines(x=mean - n * sd, colors=['r'], ymin=0, ymax=1)\n",
    "\n",
    "\n",
    "plt.show()\n"
   ]
  },
  {
   "cell_type": "code",
   "execution_count": null,
   "id": "30129403",
   "metadata": {},
   "outputs": [],
   "source": [
    "# ------------------------------------\n",
    "# Apply a redshift to generate “data”\n",
    "# ------------------------------------\n",
    "z_true = np.random.random()                    # the unknown redshift we’ll try to recover\n",
    "obs_lines = (1.0 + z_true) * rest_lines\n",
    "\n",
    "observed_flux = np.zeros_like(wl)\n",
    "for w0, amp in zip(obs_lines, amps):\n",
    "    observed_flux += gaussian(wl, w0, amp)\n",
    "\n",
    "# Add a touch of noise so it looks more realistic\n",
    "rng = np.random.default_rng(42)\n",
    "observed_flux += 0.05 * rng.normal(size=wl.size)\n",
    "\n",
    "# ------------------------------------\n",
    "# Plot: template vs. observed spectrum\n",
    "# ------------------------------------\n",
    "\n",
    "\n",
    "plt.figure(figsize=(10, 4))\n",
    "plt.plot(wl, observed_flux, label=f\"Observed spectrum (unknown $z$)\", linewidth=1.2)\n",
    "\n",
    "    #plt.scatter(peaks, wl[peaks])\n",
    "#plt.plot(wl, template_flux, '--', label=\"Template (rest‑frame)\", linewidth=1.2)\n",
    "\n",
    "# Mark the *rest* wavelengths (dotted) and observed wavelengths (dash‑dot)\n",
    "for w_rest, w_obs in zip(rest_lines, obs_lines):\n",
    "    plt.axvline(w_rest, linestyle=':', alpha=0.4)\n",
    "    #plt.axvline(w_obs,  linestyle='-.', alpha=0.4)\n",
    "\n",
    "\n",
    "plt.xlabel(\"Wavelength [Å]\")\n",
    "plt.ylabel(\"Flux [arb. units]\")\n",
    "plt.title(\"You need the template (reference) to measure redshift!\")\n",
    "plt.legend()\n",
    "plt.tight_layout()\n",
    "plt.show()"
   ]
  },
  {
   "cell_type": "markdown",
   "id": "a586f7a3",
   "metadata": {},
   "source": [
    "The sources I used to learn Cross Correlation:\n",
    "https://liquidinstruments.com/blog/cross-correlation-and-spectrum-analysis/\n",
    "\n",
    "https://www.youtube.com/watch?v=cuD-LXic2cE\n",
    "\n",
    "Cross correlation is the measurement of how well two independent signals resemble each other, a concept known as cross-similarity.\n",
    "Mathematically, cross-correlation is defined as the intergral of the product of two signals. One signal is given a time delay, T, and the cross-correlation is represented as a function of this time delay.\n",
    "\n",
    "EX.\n",
    "When two signals do not have any time overlap, the function is zero. Depending on whether the signals are of similar or opposite amplitudes, the correlation function cano also take on positive and negative values. \n",
    "\n",
    "**Signal analysis: Compare a incoming signal to a known template can detect events. \n"
   ]
  },
  {
   "cell_type": "markdown",
   "id": "598b9ce2",
   "metadata": {},
   "source": [
    "\n",
    "The equation for Correlation is described as:\n",
    "\n",
    "$$ r[m] = \\sum_{n=0}^{N_1 + N_2 - 2}x_1[n]\\space x_2[n+m] $$\n",
    "\n",
    "Basically, this equation shifts the x_2 array over by 1 (adds it to the last index and moves up the 2nd in line) and r[m] is the sum  of every number in the x_1 array times it's indice in the x_2 array. Where it is the highest value is where it is most correlated (?) (Matches up the best)\n",
    "\n",
    "The equation for the scipy Correlation:\n",
    "\n",
    "$$ z[k] = \\sum_{l = 0}^{N-1} x_l y_{l-k}^* $$\n",
    "\n",
    "This matches (each piece) of how well x matches a shifted version of y. also has lag (like the shifted by 1 above) the * means a complex conjugate. pretty cool. Where x and y line up, z[k] will be a high value."
   ]
  },
  {
   "cell_type": "code",
   "execution_count": null,
   "id": "745730d7",
   "metadata": {},
   "outputs": [],
   "source": [
    "# Setting up the two arrays to show where (or what) x values REALLY match up, to show where they are on the wavelength vs. correlation graph.\n",
    "\n",
    "# np.argmin() finds the index of the lowest value in the array. wl-rest_lines[at 0, 1, 2]\n",
    "# returns an array of subtracted values, either pos or neg. \n",
    "indc = [np.argmin(np.abs(wl - line)) for line in rest_lines]\n",
    "\n",
    "# So, If we print out indcies, we will get the closest matching values to each line in rest_lines.\n",
    "print(f\"The closest numbers I found to {rest_lines} in the array wl are {wl[indc]}.\")"
   ]
  },
  {
   "cell_type": "code",
   "execution_count": null,
   "id": "aa5db932",
   "metadata": {},
   "outputs": [],
   "source": [
    "from scipy.signal import correlate\n",
    "\n",
    "x_1 = rest_lines\n",
    "x_2 = observed_flux\n",
    "\n",
    "# correlate method is associate with the above equation.\n",
    "correlation = correlate(x_2, x_1)[0:7000]\n",
    "\n",
    "\n",
    "plt.ylabel(\"Best match (Highest peak)\")\n",
    "plt.xlabel(\"Wavelength (Ang)\")\n",
    "plt.plot(wl, correlation)"
   ]
  },
  {
   "cell_type": "markdown",
   "id": "7871c8d1",
   "metadata": {},
   "source": [
    "So, now we have found the places where it has the highest peak-- Where it matches (correlates) to our vertical lines the most! time to calculate redshift.."
   ]
  },
  {
   "cell_type": "code",
   "execution_count": null,
   "id": "191300d4",
   "metadata": {},
   "outputs": [],
   "source": [
    "from scipy.signal import find_peaks\n",
    "# find_peaks scans my data and points to the top of the hills. Like my implementation called 'find moutains' in Alg2. Except, It can set a threshold.\n",
    "\n",
    "peaks, _ = find_peaks(correlation, height=2500, distance=100) # Finds peaks above 2500. could've possibly done this with the 3*std+mean and then my find_moutains alg. but this is wayy quicker. \n",
    "\n",
    "observed_lines = wl[peaks]\n",
    "\n",
    "print(observed_lines)\n",
    "# The red dots represent the highest points on this graph.\n",
    "plt.scatter(observed_lines, correlation[peaks], color='r')\n",
    "plt.ylabel(\"Best match (Highest peak)\")\n",
    "plt.xlabel(\"Wavelength (Ang)\")\n",
    "plt.plot(wl, correlation)"
   ]
  },
  {
   "cell_type": "code",
   "execution_count": null,
   "id": "2eac10eb",
   "metadata": {},
   "outputs": [],
   "source": [
    "redshifts = []\n",
    "matched = []\n",
    "print(observed_lines)\n",
    "print(rest_lines)\n",
    "# All elements have a specific \"fingerprint.\" If the number of emmision and observed lines aren't equal, then it is not possible.\n",
    "if len(observed_lines) == len(rest_lines):\n",
    "\n",
    "    for i in range(len(rest_lines)):\n",
    "        z = (observed_lines[i] - rest_lines[i]) / rest_lines[i]\n",
    "\n",
    "        # Is that redshift possible?\n",
    "        if -0.001 < z < 1.0:\n",
    "            redshifts.append(z)\n",
    "            matched.append((rest_lines[i], observed_lines[i]))\n",
    "            print(f\"Matched {rest_lines[i]} to {observed_lines[i]}\")\n",
    "        else:\n",
    "            print(f'Rejected. Redshift {z} is not real.')\n",
    "else:\n",
    "    print('Not enough peaks!')\n",
    "\n",
    "final_z = np.average(redshifts)\n",
    "print(f\"Final redshift = {final_z}. True redshift is {z_true}.\")\n",
    "\n",
    "\n",
    "\n",
    " # The red dots represent the highest points on this graph.   \n",
    "plt.figure(figsize=(10,4))\n",
    "plt.vlines(observed_lines, ymax= 17500, ymin= -2500, colors=['g'])\n",
    "plt.vlines(rest_lines, ymax= 17500, ymin= -2500, colors=['r'])"
   ]
  }
 ],
 "metadata": {
  "kernelspec": {
   "display_name": "Python 3",
   "language": "python",
   "name": "python3"
  },
  "language_info": {
   "codemirror_mode": {
    "name": "ipython",
    "version": 3
   },
   "file_extension": ".py",
   "mimetype": "text/x-python",
   "name": "python",
   "nbconvert_exporter": "python",
   "pygments_lexer": "ipython3",
   "version": "3.13.5"
  }
 },
 "nbformat": 4,
 "nbformat_minor": 5
}
